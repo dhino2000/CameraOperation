{
 "cells": [
  {
   "cell_type": "code",
   "execution_count": 8,
   "metadata": {},
   "outputs": [
    {
     "ename": "SystemExit",
     "evalue": "0",
     "output_type": "error",
     "traceback": [
      "An exception has occurred, use %tb to see the full traceback.\n",
      "\u001b[1;31mSystemExit\u001b[0m\u001b[1;31m:\u001b[0m 0\n"
     ]
    }
   ],
   "source": [
    "import sys\n",
    "import os\n",
    "\n",
    "dir_notebook = os.path.dirname(os.path.abspath(\"__file__\"))\n",
    "# 親ディレクトリのパスを取得\n",
    "dir_parent = os.path.dirname(dir_notebook)\n",
    "if not dir_parent in sys.path:\n",
    "    sys.path.append(dir_parent)\n",
    "\n",
    "from PyQt5.QtWidgets import QMainWindow, QWidget, QGridLayout, QVBoxLayout, QHBoxLayout, QApplication\n",
    "from pypylon import pylon\n",
    "\n",
    "from apps.manager import initManagers, WidgetManager, ConfigManager, DataManager, ControlManager, LayoutManager\n",
    "from apps.control import ViewControl\n",
    "from apps.layout.basler_camera_gui import makeLayoutBaslerCameraGUI\n",
    "from apps.bind_func.utils import *\n",
    "from apps.bind_func.basler_camera_gui import *\n",
    "\n",
    "class BaslerCameraGUI(QMainWindow):\n",
    "    def __init__(self):\n",
    "        QMainWindow.__init__(self)\n",
    "        self.app_name = \"BaslerCameraGUI\"\n",
    "        self.widget_manager, self.config_manager, self.data_manager, self.control_manager, self.layout_manager = initManagers(\n",
    "            WidgetManager(), ConfigManager(), DataManager(), ControlManager(), LayoutManager()\n",
    "        )\n",
    "\n",
    "        # set window title and geometry\n",
    "        self.setWindowTitle(self.app_name)\n",
    "        # self.setGeometry(0, 0, 1920, 900) # hardcoded !!!\n",
    "\n",
    "        self.initUI()\n",
    "\n",
    "        # setup managers\n",
    "        self.setupManagers()\n",
    "\n",
    "        # setup controls\n",
    "        self.setupControls()\n",
    "\n",
    "        # bind functions\n",
    "        self.bindFuncAllWidgets()\n",
    "\n",
    "    \"\"\"\n",
    "    setup UI function\n",
    "    \"\"\"\n",
    "    def initUI(self):\n",
    "        self.central_widget = QWidget(self)\n",
    "        self.setCentralWidget(self.central_widget)\n",
    "        self.layout_main = QGridLayout(self.central_widget)\n",
    "        self.layout_main.addLayout(\n",
    "            makeLayoutBaslerCameraGUI(self.widget_manager, self.config_manager),\n",
    "            0, 0\n",
    "        )\n",
    "\n",
    "    def setupManagers(self):\n",
    "        # ConfigManager\n",
    "        self.config_manager.current_app = self.app_name\n",
    "\n",
    "    def setupControls(self):\n",
    "        # view control\n",
    "        self.control_manager.view_control = ViewControl(\n",
    "            self.widget_manager.dict_view[\"view_camera\"],\n",
    "            self.widget_manager.dict_scene[\"view_camera\"],\n",
    "            self.data_manager,\n",
    "            self.widget_manager,\n",
    "            self.config_manager,\n",
    "            self.control_manager\n",
    "        )\n",
    "        # add camera view layer\n",
    "        self.control_manager.view_control.addViewLayer(\"camera\")\n",
    "\n",
    "        # store flags\n",
    "        self.control_manager.dict_flag = {}\n",
    "        self.control_manager.dict_flag[\"is_capture\"] = False\n",
    "\n",
    "        self.control_manager.camera = pylon.InstantCamera(pylon.TlFactory.GetInstance().CreateFirstDevice())\n",
    "        self.control_manager.converter = pylon.ImageFormatConverter()\n",
    "    \n",
    "    \"\"\"\n",
    "    bindFunc\n",
    "    \"\"\"\n",
    "    def bindFuncAllWidgets(self):\n",
    "        bindFuncExit(q_button=self.widget_manager.dict_button[\"exit\"], q_window=self)\n",
    "        bindFuncButtonCaptureSingle(\n",
    "            self.widget_manager.dict_button[\"capture_single\"],\n",
    "            self,\n",
    "            self.widget_manager,\n",
    "            self.control_manager,\n",
    "            self.data_manager\n",
    "            )\n",
    "\n",
    "\n",
    "if __name__ == \"__main__\":\n",
    "    app = QApplication(sys.argv) if QApplication.instance() is None else QApplication.instance()\n",
    "    gui = BaslerCameraGUI()\n",
    "    gui.show()\n",
    "    sys.exit(app.exec_())"
   ]
  },
  {
   "cell_type": "code",
   "execution_count": 3,
   "metadata": {},
   "outputs": [
    {
     "data": {
      "text/plain": [
       "(1024, 1280, 3)"
      ]
     },
     "execution_count": 3,
     "metadata": {},
     "output_type": "execute_result"
    }
   ],
   "source": [
    "gui.data_manager.im.shape"
   ]
  },
  {
   "cell_type": "code",
   "execution_count": 4,
   "metadata": {},
   "outputs": [
    {
     "data": {
      "text/plain": [
       "array([[[ 85,  85,  85],\n",
       "        [145, 145, 145],\n",
       "        [191, 191, 191],\n",
       "        ...,\n",
       "        [183, 183, 183],\n",
       "        [ 93,  93,  93],\n",
       "        [240, 240, 240]],\n",
       "\n",
       "       [[192, 192, 192],\n",
       "        [180, 180, 180],\n",
       "        [187, 187, 187],\n",
       "        ...,\n",
       "        [249, 249, 249],\n",
       "        [  2,   2,   2],\n",
       "        [  3,   3,   3]],\n",
       "\n",
       "       [[ 61,  61,  61],\n",
       "        [103, 103, 103],\n",
       "        [ 23,  23,  23],\n",
       "        ...,\n",
       "        [ 77,  77,  77],\n",
       "        [  4,   4,   4],\n",
       "        [ 91,  91,  91]],\n",
       "\n",
       "       ...,\n",
       "\n",
       "       [[208, 208, 208],\n",
       "        [ 63,  63,  63],\n",
       "        [233, 233, 233],\n",
       "        ...,\n",
       "        [ 89,  89,  89],\n",
       "        [ 46,  46,  46],\n",
       "        [232, 232, 232]],\n",
       "\n",
       "       [[ 84,  84,  84],\n",
       "        [123, 123, 123],\n",
       "        [115, 115, 115],\n",
       "        ...,\n",
       "        [ 20,  20,  20],\n",
       "        [ 11,  11,  11],\n",
       "        [123, 123, 123]],\n",
       "\n",
       "       [[130, 130, 130],\n",
       "        [127, 127, 127],\n",
       "        [181, 181, 181],\n",
       "        ...,\n",
       "        [239, 239, 239],\n",
       "        [150, 150, 150],\n",
       "        [  8,   8,   8]]], dtype=uint8)"
      ]
     },
     "execution_count": 4,
     "metadata": {},
     "output_type": "execute_result"
    }
   ],
   "source": [
    "import numpy as np\n",
    "import cv2\n",
    "\n",
    "img = np.random.randint(0, 255, (480, 640), dtype=np.uint8)\n",
    "\n",
    "cv2.cvtColor(img, cv2.COLOR_GRAY2BGR)"
   ]
  },
  {
   "cell_type": "code",
   "execution_count": 7,
   "metadata": {},
   "outputs": [
    {
     "data": {
      "text/plain": [
       "{'view_camera': <PyQt5.QtWidgets.QGraphicsScene at 0x2340409d280>}"
      ]
     },
     "execution_count": 7,
     "metadata": {},
     "output_type": "execute_result"
    }
   ],
   "source": [
    "gui.widget_manager.dict_scene"
   ]
  }
 ],
 "metadata": {
  "kernelspec": {
   "display_name": "camera",
   "language": "python",
   "name": "python3"
  },
  "language_info": {
   "codemirror_mode": {
    "name": "ipython",
    "version": 3
   },
   "file_extension": ".py",
   "mimetype": "text/x-python",
   "name": "python",
   "nbconvert_exporter": "python",
   "pygments_lexer": "ipython3",
   "version": "3.8.20"
  }
 },
 "nbformat": 4,
 "nbformat_minor": 2
}
