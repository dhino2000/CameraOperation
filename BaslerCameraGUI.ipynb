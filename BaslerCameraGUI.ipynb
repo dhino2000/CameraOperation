{
 "cells": [
  {
   "cell_type": "code",
   "execution_count": 1,
   "metadata": {},
   "outputs": [
    {
     "ename": "SystemExit",
     "evalue": "0",
     "output_type": "error",
     "traceback": [
      "An exception has occurred, use %tb to see the full traceback.\n",
      "\u001b[1;31mSystemExit\u001b[0m\u001b[1;31m:\u001b[0m 0\n"
     ]
    },
    {
     "name": "stderr",
     "output_type": "stream",
     "text": [
      "c:\\Users\\share\\anaconda3\\envs\\camera\\lib\\site-packages\\IPython\\core\\interactiveshell.py:3516: UserWarning: To exit: use 'exit', 'quit', or Ctrl-D.\n",
      "  warn(\"To exit: use 'exit', 'quit', or Ctrl-D.\", stacklevel=1)\n"
     ]
    }
   ],
   "source": [
    "import sys\n",
    "import os\n",
    "\n",
    "dir_notebook = os.path.dirname(os.path.abspath(\"__file__\"))\n",
    "# 親ディレクトリのパスを取得\n",
    "dir_parent = os.path.dirname(dir_notebook)\n",
    "if not dir_parent in sys.path:\n",
    "    sys.path.append(dir_parent)\n",
    "\n",
    "from PyQt5.QtWidgets import QMainWindow, QWidget, QGridLayout, QVBoxLayout, QHBoxLayout, QApplication\n",
    "from pypylon import pylon\n",
    "\n",
    "from apps.manager import initManagers, WidgetManager, ConfigManager, DataManager, ControlManager, LayoutManager\n",
    "from apps.control import ViewControl, BaslerCameraControl, ConnectorControl\n",
    "from apps.layout.basler_camera_gui import makeLayoutBaslerCameraGUI\n",
    "from apps.bind_func.utils import *\n",
    "from apps.bind_func.basler_camera_gui import *\n",
    "\n",
    "class BaslerCameraGUI(QMainWindow):\n",
    "    def __init__(self):\n",
    "        QMainWindow.__init__(self)\n",
    "        self.app_name = \"BaslerCameraGUI\"\n",
    "        self.widget_manager, self.config_manager, self.data_manager, self.control_manager, self.layout_manager = initManagers(\n",
    "            WidgetManager(), ConfigManager(), DataManager(), ControlManager(), LayoutManager()\n",
    "        )\n",
    "\n",
    "        # set window title and geometry\n",
    "        self.setWindowTitle(self.app_name)\n",
    "        # self.setGeometry(0, 0, 1920, 900) # hardcoded !!!\n",
    "\n",
    "        self.initUI()\n",
    "\n",
    "        # setup managers\n",
    "        self.setupManagers()\n",
    "\n",
    "        # setup controls\n",
    "        self.setupControls()\n",
    "\n",
    "        # bind functions\n",
    "        self.bindFuncAllWidgets()\n",
    "\n",
    "    \"\"\"\n",
    "    setup UI function\n",
    "    \"\"\"\n",
    "    def initUI(self):\n",
    "        self.central_widget = QWidget(self)\n",
    "        self.setCentralWidget(self.central_widget)\n",
    "        self.layout_main = QGridLayout(self.central_widget)\n",
    "        self.layout_main.addLayout(\n",
    "            makeLayoutBaslerCameraGUI(self.widget_manager, self.config_manager),\n",
    "            0, 0\n",
    "        )\n",
    "\n",
    "    def setupManagers(self):\n",
    "        # ConfigManager\n",
    "        self.config_manager.current_app = self.app_name\n",
    "\n",
    "    def setupControls(self):\n",
    "        # view control\n",
    "        self.control_manager.view_control = ViewControl(\n",
    "            self.widget_manager.dict_view[\"view_camera\"],\n",
    "            self.widget_manager.dict_scene[\"view_camera\"],\n",
    "            self.data_manager,\n",
    "            self.widget_manager,\n",
    "            self.config_manager,\n",
    "            self.control_manager\n",
    "        )\n",
    "        # add camera view layer\n",
    "        self.control_manager.view_control.addViewLayer(\"camera\")\n",
    "\n",
    "        # setup CameraControl\n",
    "        camera = pylon.InstantCamera(pylon.TlFactory.GetInstance().CreateFirstDevice())\n",
    "        converter = pylon.ImageFormatConverter()\n",
    "        self.control_manager.camera_control = BaslerCameraControl(\n",
    "            data_manager=self.data_manager,\n",
    "            camera=camera,\n",
    "            converter=converter,\n",
    "        )\n",
    "        self.control_manager.camera_control.setFlag(\"is_capture\", False)\n",
    "    \n",
    "    \"\"\"\n",
    "    bindFunc\n",
    "    \"\"\"\n",
    "    def bindFuncAllWidgets(self):\n",
    "        # exit button\n",
    "        bindFuncExit(q_button=self.widget_manager.dict_button[\"exit\"], q_window=self)\n",
    "        # single capture button\n",
    "        bindFuncButtonCaptureSingle(\n",
    "            self.widget_manager.dict_button[\"capture_single\"],\n",
    "            self,\n",
    "            self.widget_manager,\n",
    "            self.control_manager.camera_control,\n",
    "            self.control_manager.view_control,\n",
    "            )\n",
    "        # play button\n",
    "        bindFuncButtonPlay(\n",
    "            self.widget_manager.dict_button[\"play\"],\n",
    "            self,\n",
    "            self.widget_manager,\n",
    "            self.control_manager.camera_control,\n",
    "            )\n",
    "        # Capture with Bpod button\n",
    "\n",
    "\n",
    "if __name__ == \"__main__\":\n",
    "    app = QApplication(sys.argv) if QApplication.instance() is None else QApplication.instance()\n",
    "    gui = BaslerCameraGUI()\n",
    "    gui.show()\n",
    "    sys.exit(app.exec_())"
   ]
  },
  {
   "cell_type": "code",
   "execution_count": 2,
   "metadata": {},
   "outputs": [
    {
     "data": {
      "text/plain": [
       "{'fps': 60.0,\n",
       " 'width': 1280,\n",
       " 'height': 1024,\n",
       " 'offset_x': 0,\n",
       " 'offset_y': 0,\n",
       " 'gain': 12.0,\n",
       " 'exposure_time': 2000}"
      ]
     },
     "execution_count": 2,
     "metadata": {},
     "output_type": "execute_result"
    }
   ],
   "source": [
    "gui.control_manager.camera_control.dict_camera_config"
   ]
  },
  {
   "cell_type": "code",
   "execution_count": 7,
   "metadata": {},
   "outputs": [
    {
     "data": {
      "text/plain": [
       "{'view_camera': <PyQt5.QtWidgets.QGraphicsScene at 0x2340409d280>}"
      ]
     },
     "execution_count": 7,
     "metadata": {},
     "output_type": "execute_result"
    }
   ],
   "source": [
    "gui.widget_manager.dict_scene"
   ]
  }
 ],
 "metadata": {
  "kernelspec": {
   "display_name": "camera",
   "language": "python",
   "name": "python3"
  },
  "language_info": {
   "codemirror_mode": {
    "name": "ipython",
    "version": 3
   },
   "file_extension": ".py",
   "mimetype": "text/x-python",
   "name": "python",
   "nbconvert_exporter": "python",
   "pygments_lexer": "ipython3",
   "version": "3.8.20"
  }
 },
 "nbformat": 4,
 "nbformat_minor": 2
}
